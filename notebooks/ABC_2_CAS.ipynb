{
 "cells": [
  {
   "cell_type": "code",
   "execution_count": 1,
   "id": "8430d98d-c91d-4891-a09c-5510478e781b",
   "metadata": {},
   "outputs": [],
   "source": [
    "import pandas as pd\n",
    "import re\n",
    "import yaml"
   ]
  },
  {
   "cell_type": "code",
   "execution_count": 105,
   "id": "15e59cba-b7fc-44ad-9add-317bf501cb3d",
   "metadata": {},
   "outputs": [],
   "source": [
    "# Start by loading relevant ABC metadata files into dataframes\n",
    "dpath = '../data/WMB_taxonomy_20230830/'\n",
    "cluster_annotation_term = pd.read_csv(dpath + 'cluster_annotation_term.csv', sep=',')\n",
    "cluster_annotation_term_set = pd.read_csv(dpath + 'cluster_annotation_term_set.csv', sep=',')\n",
    "#cluster = pd.read_csv(dpath + 'cluster.csv', sep=',')\n",
    "cluster_to_cluster_annotation_membership = pd.read_csv(dpath + 'cluster_to_cluster_annotation_membership.csv', sep=',')"
   ]
  },
  {
   "cell_type": "code",
   "execution_count": 3,
   "id": "d293f51d-d17c-4cb2-81a0-c74fb2071d9a",
   "metadata": {},
   "outputs": [
    {
     "data": {
      "text/html": [
       "<div>\n",
       "<style scoped>\n",
       "    .dataframe tbody tr th:only-of-type {\n",
       "        vertical-align: middle;\n",
       "    }\n",
       "\n",
       "    .dataframe tbody tr th {\n",
       "        vertical-align: top;\n",
       "    }\n",
       "\n",
       "    .dataframe thead th {\n",
       "        text-align: right;\n",
       "    }\n",
       "</style>\n",
       "<table border=\"1\" class=\"dataframe\">\n",
       "  <thead>\n",
       "    <tr style=\"text-align: right;\">\n",
       "      <th></th>\n",
       "      <th>label</th>\n",
       "      <th>name</th>\n",
       "      <th>cluster_annotation_term_set_label</th>\n",
       "      <th>parent_term_label</th>\n",
       "      <th>parent_term_set_label</th>\n",
       "      <th>term_set_order</th>\n",
       "      <th>term_order</th>\n",
       "      <th>cluster_annotation_term_set_name</th>\n",
       "      <th>color_hex_triplet</th>\n",
       "    </tr>\n",
       "  </thead>\n",
       "  <tbody>\n",
       "    <tr>\n",
       "      <th>0</th>\n",
       "      <td>CS20230722_NEUR_Glut</td>\n",
       "      <td>Glut</td>\n",
       "      <td>CCN20230722_NEUR</td>\n",
       "      <td>NaN</td>\n",
       "      <td>NaN</td>\n",
       "      <td>0</td>\n",
       "      <td>0</td>\n",
       "      <td>neurotransmitter</td>\n",
       "      <td>#2B93DF</td>\n",
       "    </tr>\n",
       "    <tr>\n",
       "      <th>1</th>\n",
       "      <td>CS20230722_NEUR_NA</td>\n",
       "      <td>NaN</td>\n",
       "      <td>CCN20230722_NEUR</td>\n",
       "      <td>NaN</td>\n",
       "      <td>NaN</td>\n",
       "      <td>0</td>\n",
       "      <td>1</td>\n",
       "      <td>neurotransmitter</td>\n",
       "      <td>#666666</td>\n",
       "    </tr>\n",
       "  </tbody>\n",
       "</table>\n",
       "</div>"
      ],
      "text/plain": [
       "                  label  name cluster_annotation_term_set_label  \\\n",
       "0  CS20230722_NEUR_Glut  Glut                  CCN20230722_NEUR   \n",
       "1    CS20230722_NEUR_NA   NaN                  CCN20230722_NEUR   \n",
       "\n",
       "  parent_term_label parent_term_set_label  term_set_order  term_order  \\\n",
       "0               NaN                   NaN               0           0   \n",
       "1               NaN                   NaN               0           1   \n",
       "\n",
       "  cluster_annotation_term_set_name color_hex_triplet  \n",
       "0                 neurotransmitter           #2B93DF  \n",
       "1                 neurotransmitter           #666666  "
      ]
     },
     "execution_count": 3,
     "metadata": {},
     "output_type": "execute_result"
    }
   ],
   "source": [
    "cluster_annotation_term[0:2]"
   ]
  },
  {
   "cell_type": "code",
   "execution_count": 4,
   "id": "77d728ce-f0fc-49e6-b247-7736baf6d958",
   "metadata": {},
   "outputs": [
    {
     "data": {
      "text/html": [
       "<div>\n",
       "<style scoped>\n",
       "    .dataframe tbody tr th:only-of-type {\n",
       "        vertical-align: middle;\n",
       "    }\n",
       "\n",
       "    .dataframe tbody tr th {\n",
       "        vertical-align: top;\n",
       "    }\n",
       "\n",
       "    .dataframe thead th {\n",
       "        text-align: right;\n",
       "    }\n",
       "</style>\n",
       "<table border=\"1\" class=\"dataframe\">\n",
       "  <thead>\n",
       "    <tr style=\"text-align: right;\">\n",
       "      <th></th>\n",
       "      <th>label</th>\n",
       "      <th>name</th>\n",
       "      <th>description</th>\n",
       "      <th>order</th>\n",
       "    </tr>\n",
       "  </thead>\n",
       "  <tbody>\n",
       "    <tr>\n",
       "      <th>0</th>\n",
       "      <td>CCN20230722_NEUR</td>\n",
       "      <td>neurotransmitter</td>\n",
       "      <td>Clusters are assigned based on the average exp...</td>\n",
       "      <td>0</td>\n",
       "    </tr>\n",
       "    <tr>\n",
       "      <th>1</th>\n",
       "      <td>CCN20230722_CLAS</td>\n",
       "      <td>class</td>\n",
       "      <td>The top level of cell type definition in the m...</td>\n",
       "      <td>1</td>\n",
       "    </tr>\n",
       "  </tbody>\n",
       "</table>\n",
       "</div>"
      ],
      "text/plain": [
       "              label              name  \\\n",
       "0  CCN20230722_NEUR  neurotransmitter   \n",
       "1  CCN20230722_CLAS             class   \n",
       "\n",
       "                                         description  order  \n",
       "0  Clusters are assigned based on the average exp...      0  \n",
       "1  The top level of cell type definition in the m...      1  "
      ]
     },
     "execution_count": 4,
     "metadata": {},
     "output_type": "execute_result"
    }
   ],
   "source": [
    "cluster_annotation_term_set[0:2]"
   ]
  },
  {
   "cell_type": "code",
   "execution_count": 5,
   "id": "a3c73280-83bf-4981-b899-7a27c7bece67",
   "metadata": {},
   "outputs": [],
   "source": [
    "# Turn these into dicts for fast lookup\n",
    "# turning nan to empty string better for lookups, although could cause trouble with numbers.\n",
    "\n",
    "def df2dict(df: pd.DataFrame, key_column: str):\n",
    "    return df.set_index(key_column).fillna('').to_dict(orient='index')\n",
    "\n",
    "cluster_annotation_term_dict = df2dict(cluster_annotation_term, 'label')\n",
    "cluster_annotation_term_set_dict = df2dict(cluster_annotation_term_set, 'label')"
   ]
  },
  {
   "cell_type": "code",
   "execution_count": 6,
   "id": "85ea37db-6c53-4fe2-937e-76d2a925d796",
   "metadata": {},
   "outputs": [
    {
     "data": {
      "text/html": [
       "<div>\n",
       "<style scoped>\n",
       "    .dataframe tbody tr th:only-of-type {\n",
       "        vertical-align: middle;\n",
       "    }\n",
       "\n",
       "    .dataframe tbody tr th {\n",
       "        vertical-align: top;\n",
       "    }\n",
       "\n",
       "    .dataframe thead th {\n",
       "        text-align: right;\n",
       "    }\n",
       "</style>\n",
       "<table border=\"1\" class=\"dataframe\">\n",
       "  <thead>\n",
       "    <tr style=\"text-align: right;\">\n",
       "      <th></th>\n",
       "      <th>cell_set_accession</th>\n",
       "      <th>original_label</th>\n",
       "      <th>cell_set_label</th>\n",
       "      <th>cell_set_preferred_alias</th>\n",
       "      <th>cell_set_aligned_alias</th>\n",
       "      <th>cell_set_additional_aliases</th>\n",
       "      <th>cell_set_structure</th>\n",
       "      <th>cell_set_ontology_tag</th>\n",
       "      <th>cell_set_alias_assignee</th>\n",
       "      <th>cell_set_alias_citation</th>\n",
       "      <th>taxonomy_id</th>\n",
       "      <th>child_cell_set_accessions</th>\n",
       "      <th>NT</th>\n",
       "      <th>MBA</th>\n",
       "      <th>projection</th>\n",
       "      <th>layer</th>\n",
       "      <th>CL</th>\n",
       "    </tr>\n",
       "  </thead>\n",
       "  <tbody>\n",
       "    <tr>\n",
       "      <th>0</th>\n",
       "      <td>CS202212150_1</td>\n",
       "      <td>NaN</td>\n",
       "      <td>WMB 00001</td>\n",
       "      <td>0001 Car3 Glut_1</td>\n",
       "      <td>NaN</td>\n",
       "      <td>NaN</td>\n",
       "      <td>Brain</td>\n",
       "      <td>UBERON:0000955</td>\n",
       "      <td>Zizhen Yao</td>\n",
       "      <td>NaN</td>\n",
       "      <td>CCN202212150</td>\n",
       "      <td>NaN</td>\n",
       "      <td>GO:0061535</td>\n",
       "      <td>NaN</td>\n",
       "      <td>NaN</td>\n",
       "      <td>NaN</td>\n",
       "      <td>NaN</td>\n",
       "    </tr>\n",
       "    <tr>\n",
       "      <th>1</th>\n",
       "      <td>CS202212150_10</td>\n",
       "      <td>NaN</td>\n",
       "      <td>WMB 00010</td>\n",
       "      <td>0010 IT EP-CLA Glut_1</td>\n",
       "      <td>NaN</td>\n",
       "      <td>NaN</td>\n",
       "      <td>Brain</td>\n",
       "      <td>UBERON:0000955</td>\n",
       "      <td>Zizhen Yao</td>\n",
       "      <td>NaN</td>\n",
       "      <td>CCN202212150</td>\n",
       "      <td>NaN</td>\n",
       "      <td>GO:0061535</td>\n",
       "      <td>http://purl.obolibrary.org/obo/MBA_942 | http:...</td>\n",
       "      <td>PATO:0070034</td>\n",
       "      <td>NaN</td>\n",
       "      <td>NaN</td>\n",
       "    </tr>\n",
       "  </tbody>\n",
       "</table>\n",
       "</div>"
      ],
      "text/plain": [
       "  cell_set_accession  original_label cell_set_label cell_set_preferred_alias  \\\n",
       "0      CS202212150_1             NaN      WMB 00001         0001 Car3 Glut_1   \n",
       "1     CS202212150_10             NaN      WMB 00010    0010 IT EP-CLA Glut_1   \n",
       "\n",
       "   cell_set_aligned_alias  cell_set_additional_aliases cell_set_structure  \\\n",
       "0                     NaN                          NaN              Brain   \n",
       "1                     NaN                          NaN              Brain   \n",
       "\n",
       "  cell_set_ontology_tag cell_set_alias_assignee  cell_set_alias_citation  \\\n",
       "0        UBERON:0000955              Zizhen Yao                      NaN   \n",
       "1        UBERON:0000955              Zizhen Yao                      NaN   \n",
       "\n",
       "    taxonomy_id child_cell_set_accessions          NT  \\\n",
       "0  CCN202212150                       NaN  GO:0061535   \n",
       "1  CCN202212150                       NaN  GO:0061535   \n",
       "\n",
       "                                                 MBA    projection layer   CL  \n",
       "0                                                NaN           NaN   NaN  NaN  \n",
       "1  http://purl.obolibrary.org/obo/MBA_942 | http:...  PATO:0070034   NaN  NaN  "
      ]
     },
     "execution_count": 6,
     "metadata": {},
     "output_type": "execute_result"
    }
   ],
   "source": [
    "# Old taxonomy - use as source of accesssions for now.  These accessions will match \n",
    "old_taxonomy = pd.read_csv('../data/BDSO_taxonomy_templates/nomenclature_table_CS202212150_annotated.csv', sep=',')\n",
    "old_taxonomy [0:2]"
   ]
  },
  {
   "cell_type": "code",
   "execution_count": 47,
   "id": "c82639fb-1f5e-4eb1-bee8-cde89fa3817d",
   "metadata": {},
   "outputs": [
    {
     "data": {
      "text/plain": [
       "<Response [200]>"
      ]
     },
     "execution_count": 47,
     "metadata": {},
     "output_type": "execute_result"
    }
   ],
   "source": [
    "import requests\n",
    "clget = requests.get(\"http://purl.obolibrary.org/obo/cl/cl.json\")\n",
    "clget"
   ]
  },
  {
   "cell_type": "code",
   "execution_count": 95,
   "id": "28ffe75d-8077-40fb-8299-1d0bbd329f13",
   "metadata": {},
   "outputs": [],
   "source": [
    "import json\n",
    "cl = json.loads(clget.content)['graphs'][0]\n",
    "cl_lookup = { n['id'].replace(\"http://purl.obolibrary.org/obo/CL_\", \"CL:\") : n['lbl'] \n",
    "          for n in cl['nodes'] \n",
    "          if 'lbl' in n.keys() }\n"
   ]
  },
  {
   "cell_type": "code",
   "execution_count": 7,
   "id": "4e757870-4cf2-45bd-b91a-2a44862dcffc",
   "metadata": {},
   "outputs": [],
   "source": [
    "old_taxonomy_dict = df2dict(old_taxonomy, 'cell_set_preferred_alias')"
   ]
  },
  {
   "cell_type": "code",
   "execution_count": 61,
   "id": "e4488320-6793-4b64-a3ed-ec1c643bb173",
   "metadata": {},
   "outputs": [
    {
     "data": {
      "text/html": [
       "<div>\n",
       "<style scoped>\n",
       "    .dataframe tbody tr th:only-of-type {\n",
       "        vertical-align: middle;\n",
       "    }\n",
       "\n",
       "    .dataframe tbody tr th {\n",
       "        vertical-align: top;\n",
       "    }\n",
       "\n",
       "    .dataframe thead th {\n",
       "        text-align: right;\n",
       "    }\n",
       "</style>\n",
       "<table border=\"1\" class=\"dataframe\">\n",
       "  <thead>\n",
       "    <tr style=\"text-align: right;\">\n",
       "      <th></th>\n",
       "      <th>cell_set_accession</th>\n",
       "      <th>cell_set_preferred_alias</th>\n",
       "      <th>CL</th>\n",
       "    </tr>\n",
       "  </thead>\n",
       "  <tbody>\n",
       "    <tr>\n",
       "      <th>4414</th>\n",
       "      <td>CS202212150_4972</td>\n",
       "      <td>4972 CB Granule Glut_1</td>\n",
       "      <td>CL:0000120</td>\n",
       "    </tr>\n",
       "    <tr>\n",
       "      <th>4415</th>\n",
       "      <td>CS202212150_4973</td>\n",
       "      <td>4973 CB Granule Glut_1</td>\n",
       "      <td>CL:0000120</td>\n",
       "    </tr>\n",
       "    <tr>\n",
       "      <th>4416</th>\n",
       "      <td>CS202212150_4974</td>\n",
       "      <td>4974 CB Granule Glut_1</td>\n",
       "      <td>CL:0000120</td>\n",
       "    </tr>\n",
       "    <tr>\n",
       "      <th>4417</th>\n",
       "      <td>CS202212150_4975</td>\n",
       "      <td>4975 CB Granule Glut_2</td>\n",
       "      <td>CL:0000120</td>\n",
       "    </tr>\n",
       "    <tr>\n",
       "      <th>4418</th>\n",
       "      <td>CS202212150_4976</td>\n",
       "      <td>4976 CB Granule Glut_2</td>\n",
       "      <td>CL:0000120</td>\n",
       "    </tr>\n",
       "    <tr>\n",
       "      <th>...</th>\n",
       "      <td>...</td>\n",
       "      <td>...</td>\n",
       "      <td>...</td>\n",
       "    </tr>\n",
       "    <tr>\n",
       "      <th>5972</th>\n",
       "      <td>CS202212150_6374</td>\n",
       "      <td>Pallium glutamatergic</td>\n",
       "      <td>CL:0000679</td>\n",
       "    </tr>\n",
       "    <tr>\n",
       "      <th>5973</th>\n",
       "      <td>CS202212150_6375</td>\n",
       "      <td>Subpallium GABAergic</td>\n",
       "      <td>CL:0000617</td>\n",
       "    </tr>\n",
       "    <tr>\n",
       "      <th>5974</th>\n",
       "      <td>CS202212150_6376</td>\n",
       "      <td>PAL-sAMY-TH-HY-MB-HB neuronal</td>\n",
       "      <td>CL:0000540</td>\n",
       "    </tr>\n",
       "    <tr>\n",
       "      <th>5975</th>\n",
       "      <td>CS202212150_6377</td>\n",
       "      <td>CBX-MOB-other neuronal</td>\n",
       "      <td>CL:0000540</td>\n",
       "    </tr>\n",
       "    <tr>\n",
       "      <th>5976</th>\n",
       "      <td>CS202212150_6378</td>\n",
       "      <td>Neuroglial</td>\n",
       "      <td>CL:0000125</td>\n",
       "    </tr>\n",
       "  </tbody>\n",
       "</table>\n",
       "<p>90 rows × 3 columns</p>\n",
       "</div>"
      ],
      "text/plain": [
       "     cell_set_accession       cell_set_preferred_alias          CL\n",
       "4414   CS202212150_4972         4972 CB Granule Glut_1  CL:0000120\n",
       "4415   CS202212150_4973         4973 CB Granule Glut_1  CL:0000120\n",
       "4416   CS202212150_4974         4974 CB Granule Glut_1  CL:0000120\n",
       "4417   CS202212150_4975         4975 CB Granule Glut_2  CL:0000120\n",
       "4418   CS202212150_4976         4976 CB Granule Glut_2  CL:0000120\n",
       "...                 ...                            ...         ...\n",
       "5972   CS202212150_6374          Pallium glutamatergic  CL:0000679\n",
       "5973   CS202212150_6375           Subpallium GABAergic  CL:0000617\n",
       "5974   CS202212150_6376  PAL-sAMY-TH-HY-MB-HB neuronal  CL:0000540\n",
       "5975   CS202212150_6377         CBX-MOB-other neuronal  CL:0000540\n",
       "5976   CS202212150_6378                     Neuroglial  CL:0000125\n",
       "\n",
       "[90 rows x 3 columns]"
      ]
     },
     "execution_count": 61,
     "metadata": {},
     "output_type": "execute_result"
    }
   ],
   "source": [
    "# old_taxonomy has CL mappings we can use\n",
    "old_taxonomy[['cell_set_accession', 'cell_set_preferred_alias', 'CL',]].dropna()"
   ]
  },
  {
   "cell_type": "code",
   "execution_count": 8,
   "id": "23b9ba37-982a-4271-9396-a2408e68d0fe",
   "metadata": {},
   "outputs": [],
   "source": [
    "# A second source of CL mappings:\n",
    "with open('../data/BDSO_taxonomy_templates/taxonomy_details.yaml', 'r') as taxd_file:\n",
    "    taxd=yaml.safe_load(taxd_file.read())"
   ]
  },
  {
   "cell_type": "code",
   "execution_count": 10,
   "id": "3bf43f94-0e6a-432b-bb47-d4a9158a7fd5",
   "metadata": {},
   "outputs": [],
   "source": [
    "root_node_CL_mappings = { n['Node']: n['Cell_type'] for n in taxd[0]['Root_nodes']}"
   ]
  },
  {
   "cell_type": "code",
   "execution_count": 9,
   "id": "27154205-02c5-43f1-b0cf-7a966fc881d7",
   "metadata": {},
   "outputs": [
    {
     "data": {
      "text/plain": [
       "[{'Node': 'CS202212150_6347',\n",
       "  'Cell_type': 'CL:0000679',\n",
       "  'Location_relation': 'has_soma_location'},\n",
       " {'Node': 'CS202212150_6348',\n",
       "  'Cell_type': 'CL:0000679',\n",
       "  'Location_relation': 'has_soma_location'}]"
      ]
     },
     "execution_count": 9,
     "metadata": {},
     "output_type": "execute_result"
    }
   ],
   "source": [
    "taxd[0]['Root_nodes'][0:2]"
   ]
  },
  {
   "cell_type": "code",
   "execution_count": 44,
   "id": "f889b6b6-53af-4df4-9db8-0174fe30032f",
   "metadata": {},
   "outputs": [
    {
     "data": {
      "text/plain": [
       "{'CL:0000125', 'CL:0000617', 'CL:0000679'}"
      ]
     },
     "execution_count": 44,
     "metadata": {},
     "output_type": "execute_result"
    }
   ],
   "source": [
    "# Mappings in both\n",
    "set(root_node_CL_mappings.values()).intersection(set(old_taxonomy['CL'].dropna()))"
   ]
  },
  {
   "cell_type": "code",
   "execution_count": 45,
   "id": "9e1d5f7e-b040-4123-8dcd-652d9d09f4f0",
   "metadata": {},
   "outputs": [
    {
     "data": {
      "text/plain": [
       "{'CL:0000700',\n",
       " 'CL:0000738',\n",
       " 'CL:0000850',\n",
       " 'CL:4023063',\n",
       " 'CL:4023064',\n",
       " 'CL:4023072'}"
      ]
     },
     "execution_count": 45,
     "metadata": {},
     "output_type": "execute_result"
    }
   ],
   "source": [
    "#mappings only in root node map\n",
    "set(root_node_CL_mappings.values()).difference(set(old_taxonomy['CL'].dropna()))"
   ]
  },
  {
   "cell_type": "code",
   "execution_count": 62,
   "id": "cdc00831-cbb9-48f7-aca7-904821d8980f",
   "metadata": {},
   "outputs": [
    {
     "data": {
      "text/plain": [
       "17"
      ]
     },
     "execution_count": 62,
     "metadata": {},
     "output_type": "execute_result"
    }
   ],
   "source": [
    "# Mappings only in taxonomy\n",
    "len(set(old_taxonomy['CL'].dropna()).difference(set(root_node_CL_mappings.values())))"
   ]
  },
  {
   "cell_type": "code",
   "execution_count": 96,
   "id": "a8be5605-e755-4059-8c6e-f89986bd70fd",
   "metadata": {},
   "outputs": [],
   "source": [
    "# Combining CL terms into a single lookup with labels\n",
    "\n",
    "CL_mapping = df2dict(old_taxonomy[['cell_set_accession', 'CL']].dropna(), 'cell_set_accession')\n",
    "CL_mapping.update({n['Node'] : { 'CL': n['Cell_type']} for n in taxd[0]['Root_nodes']})"
   ]
  },
  {
   "cell_type": "code",
   "execution_count": 103,
   "id": "be01fe86-549c-43c7-82f6-1cb810057e70",
   "metadata": {},
   "outputs": [
    {
     "data": {
      "text/plain": [
       "[('CS202212150_4972', {'CL': 'CL:0000120', 'label': 'granule cell'}),\n",
       " ('CS202212150_4973', {'CL': 'CL:0000120', 'label': 'granule cell'}),\n",
       " ('CS202212150_4974', {'CL': 'CL:0000120', 'label': 'granule cell'}),\n",
       " ('CS202212150_4975', {'CL': 'CL:0000120', 'label': 'granule cell'}),\n",
       " ('CS202212150_4976', {'CL': 'CL:0000120', 'label': 'granule cell'})]"
      ]
     },
     "execution_count": 103,
     "metadata": {},
     "output_type": "execute_result"
    }
   ],
   "source": [
    "#[{'cell_annotation_key': 'neurotransmitter', 'cell_label': 'Glut'},\n",
    "# {'cell_annotation_key': 'neurotransmitter', 'cell_label': 'GABA'},\n",
    "# {'cell_annotation_key': 'neurotransmitter', 'cell_label': 'Dopa'},\n",
    "# {'cell_annotation_key': 'neurotransmitter', 'cell_label': 'Glut-GABA'},\n",
    "# {'cell_annotation_key': 'neurotransmitter', 'cell_label': 'Chol'},\n",
    "# {'cell_annotation_key': 'neurotransmitter', 'cell_label': 'Hist'},\n",
    "# {'cell_annotation_key': 'neurotransmitter', 'cell_label': 'GABA-Glyc'},\n",
    "# {'cell_annotation_key': 'neurotransmitter', 'cell_label': 'Sero'},\n",
    "# {'cell_annotation_key': 'neurotransmitter', 'cell_label': 'Nora'},\n",
    "\n",
    "NT = { 'Glut': {'ID': 'CL:0000679', 'label': 'glutamatergic neuron'},\n",
    "        'GABA': {'ID': 'CL:0000617', 'label': 'GABAergic neuron'},\n",
    "        'Sero': {'ID': 'CL:0000850', 'label': 'serotonergic neuron'},\n",
    "        'Dopa': {'ID': 'CL:0000700', 'label': 'dopaminergic neuron'}\n",
    "      }\n",
    "       ##  TOTO ADD missing NTs\n",
    "\n",
    "to_remove = []\n",
    "for k,v in CL_mapping.items():\n",
    "    if cl_lookup[v['CL']] in [n['label'] for n in NT.values()]:\n",
    "        to_remove.append(k)\n",
    "    else: \n",
    "        CL_mapping[k]['label'] = cl_lookup[v['CL']]\n",
    "\n",
    "[CL_mapping.pop(key) for key in to_remove]\n",
    "\n",
    "list(CL_mapping.items())[0:5]\n",
    "\n"
   ]
  },
  {
   "cell_type": "code",
   "execution_count": 11,
   "id": "4622e49b-6cfc-4892-a99a-fb967850bd41",
   "metadata": {},
   "outputs": [
    {
     "data": {
      "text/plain": [
       "[{'annotation_key': 'neurotransmitter',\n",
       "  'description': 'Clusters are assigned based on the average expression of both neurotransmitter transporter genes and key neurotransmitter synthesizing enzyme genes.'},\n",
       " {'annotation_key': 'class',\n",
       "  'description': 'The top level of cell type definition in the mouse whole brain taxonomy. It is primarily determined by broad brain region and neurotransmitter type. All cells within a subclass belong to the same class. Class provides a broader categorization of cell types.',\n",
       "  'rank': 3}]"
      ]
     },
     "execution_count": 11,
     "metadata": {},
     "output_type": "execute_result"
    }
   ],
   "source": [
    "annotation_keys = []\n",
    "orders = list(cluster_annotation_term_set['order'])\n",
    "orders.sort()\n",
    "max_order = orders[-1]\n",
    "for k,v in cluster_annotation_term_set_dict.items():\n",
    "    key = {}\n",
    "    key['annotation_key'] = v['name']\n",
    "    key['description'] = v['description']\n",
    "    if not v['name'] == 'neurotransmitter': key['rank'] = - (v['order'] - max_order)\n",
    "    annotation_keys.append(key)\n",
    "annotation_keys[0:2]"
   ]
  },
  {
   "cell_type": "code",
   "execution_count": 14,
   "id": "36c206c9-efdd-4311-8c84-040a4ef6758f",
   "metadata": {},
   "outputs": [
    {
     "name": "stdout",
     "output_type": "stream",
     "text": [
      "716\n",
      "['COAa-PAA-MEA Barhl2 Glut', 'IC Tfap2d Maf Glut_1', 'PRP-NI-PRNc-GRN Otp Glut']\n"
     ]
    }
   ],
   "source": [
    "## Testing matches when old term name is stripped\n",
    "\n",
    "old_name_new_name_interesction = set(old_taxonomy_dict.keys()).intersection(set([re.sub(\"^\\d+ (.+)\", r\"\\1\", v['name']) \n",
    "                                                                                    for v in cluster_annotation_term_dict.values()]))\n",
    "print (len(old_name_new_name_interesction))\n",
    "print (list(old_name_new_name_interesction)[0:3])\n",
    "\n",
    "# These names can be used to look up accessions in the old taxonomy"
   ]
  },
  {
   "cell_type": "code",
   "execution_count": 60,
   "id": "86d0407e-4a22-409a-8d3b-633ed88cc509",
   "metadata": {},
   "outputs": [
    {
     "name": "stdout",
     "output_type": "stream",
     "text": [
      "CL:4023072 ; brain vascular cell\n",
      "CL:0000679 ; glutamatergic neuron\n",
      "CL:0000700 ; dopaminergic neuron\n",
      "CL:0000679 ; glutamatergic neuron\n",
      "CL:0000679 ; glutamatergic neuron\n",
      "CL:0000679 ; glutamatergic neuron\n",
      "CL:0000679 ; glutamatergic neuron\n",
      "CL:0000617 ; GABAergic neuron\n",
      "CL:0000617 ; GABAergic neuron\n",
      "CL:0000617 ; GABAergic neuron\n",
      "CL:0000617 ; GABAergic neuron\n",
      "CL:0000617 ; GABAergic neuron\n",
      "CL:0000679 ; glutamatergic neuron\n",
      "CL:0000679 ; glutamatergic neuron\n",
      "CL:0000679 ; glutamatergic neuron\n",
      "CL:0000679 ; glutamatergic neuron\n",
      "CL:0000617 ; GABAergic neuron\n",
      "CL:0000617 ; GABAergic neuron\n",
      "CL:0000617 ; GABAergic neuron\n",
      "CL:0000679 ; glutamatergic neuron\n",
      "CL:0000738 ; leukocyte\n"
     ]
    }
   ],
   "source": [
    "# How many old names have an accession that maps to a CL ID in the root_node_CL_mappings\n",
    "\n",
    "for name in old_name_new_name_interesction:\n",
    "    accession = old_taxonomy_dict[name]['cell_set_accession']\n",
    "    if accession in root_node_CL_mappings.keys():\n",
    "        id = root_node_CL_mappings[accession]\n",
    "        print(' ; '.join([id , cl_lookup[id]]))\n"
   ]
  },
  {
   "cell_type": "code",
   "execution_count": 24,
   "id": "5f24f447-227c-4ca8-aa14-e65a4d745f79",
   "metadata": {},
   "outputs": [
    {
     "data": {
      "text/plain": [
       "{''}"
      ]
     },
     "execution_count": 24,
     "metadata": {},
     "output_type": "execute_result"
    }
   ],
   "source": [
    "# Testing parent cell set lookup\n",
    "\n",
    "parents = set(cluster_annotation_term['parent_term_label'].fillna(''))\n",
    "labels = set(cluster_annotation_term['label'].fillna(''))\n",
    "parents.difference(labels)"
   ]
  },
  {
   "cell_type": "markdown",
   "id": "76ebd8d9-28b3-469d-9565-8c67381fa852",
   "metadata": {},
   "source": [
    "Conclusion - all parent labels resolve internally"
   ]
  },
  {
   "cell_type": "code",
   "execution_count": 25,
   "id": "4429ef23-0f6d-44d5-bcfa-6c00a1e27733",
   "metadata": {},
   "outputs": [],
   "source": [
    "from collections import Counter\n",
    "names = [v['name'] for v in cluster_annotation_term_dict.values()]\n",
    "duplicate_names = [k for k,v in Counter(names).items() if v>1]"
   ]
  },
  {
   "cell_type": "markdown",
   "id": "427cf0de-45ef-498c-99b7-4af8631c1ec7",
   "metadata": {},
   "source": [
    "## TODO\n",
    "\n",
    "* DONE Make more complete set of links to CL, including label - but stripping NT, which should go on NT cell sets."
   ]
  },
  {
   "cell_type": "code",
   "execution_count": 101,
   "id": "1349d0d7-af6b-4919-82e6-d09d61fdf529",
   "metadata": {},
   "outputs": [
    {
     "name": "stdout",
     "output_type": "stream",
     "text": [
      "No mapping for parent: CS20230722_CLAS_03 03 OB-CR Glut\n",
      "No mapping for parent: CS20230722_CLAS_04 04 DG-IMN Glut\n",
      "No mapping for parent: CS20230722_CLAS_04 04 DG-IMN Glut\n",
      "No mapping for parent: CS20230722_CLAS_06 06 CTX-CGE GABA\n",
      "No mapping for parent: CS20230722_CLAS_06 06 CTX-CGE GABA\n",
      "No mapping for parent: CS20230722_CLAS_06 06 CTX-CGE GABA\n",
      "No mapping for parent: CS20230722_CLAS_06 06 CTX-CGE GABA\n",
      "No mapping for parent: CS20230722_CLAS_07 07 CTX-MGE GABA\n",
      "No mapping for parent: CS20230722_CLAS_07 07 CTX-MGE GABA\n",
      "No mapping for parent: CS20230722_CLAS_07 07 CTX-MGE GABA\n",
      "No mapping for parent: CS20230722_CLAS_07 07 CTX-MGE GABA\n",
      "No mapping for parent: CS20230722_CLAS_08 08 CNU-MGE GABA\n",
      "No mapping for parent: CS20230722_CLAS_08 08 CNU-MGE GABA\n",
      "No mapping for parent: CS20230722_CLAS_08 08 CNU-MGE GABA\n",
      "No mapping for parent: CS20230722_CLAS_08 08 CNU-MGE GABA\n",
      "No mapping for parent: CS20230722_CLAS_09 09 CNU-LGE GABA\n",
      "No mapping for parent: CS20230722_CLAS_09 09 CNU-LGE GABA\n",
      "No mapping for parent: CS20230722_CLAS_21 21 MB Dopa\n",
      "No mapping for parent: CS20230722_CLAS_30 30 Astro-Epen\n",
      "No mapping for parent: CS20230722_CLAS_30 30 Astro-Epen\n",
      "No mapping for parent: CS20230722_CLAS_30 30 Astro-Epen\n",
      "No mapping for parent: CS20230722_CLAS_30 30 Astro-Epen\n",
      "No mapping for parent: CS20230722_CLAS_30 30 Astro-Epen\n",
      "No mapping for parent: CS20230722_CLAS_31 31 OPC-Oligo\n",
      "No mapping for parent: CS20230722_CLAS_31 31 OPC-Oligo\n",
      "No mapping for parent: CS20230722_SUPT_0009 0009 L5/6 IT TPE-ENT Glut_3\n",
      "No mapping for parent: CS20230722_SUPT_0010 0010 L5/6 IT TPE-ENT Glut_4\n",
      "No mapping for parent: CS20230722_SUPT_0011 0011 L5/6 IT TPE-ENT Glut_5\n",
      "No mapping for parent: CS20230722_SUPT_0012 0012 L5/6 IT TPE-ENT Glut_6\n",
      "No mapping for parent: CS20230722_SUPT_0022 0022 L5 IT CTX Glut_5\n",
      "No mapping for parent: CS20230722_SUPT_0053 0053 L2 IT ENT-po Glut_3\n",
      "No mapping for parent: CS20230722_SUPT_0054 0054 L2 IT ENT-po Glut_4\n",
      "No mapping for parent: CS20230722_SUPT_0058 0058 COAp Grxcr2 Glut_1\n"
     ]
    },
    {
     "data": {
      "text/plain": [
       "[{'cell_annotation_key': 'neurotransmitter',\n",
       "  'cell_label': 'Glut',\n",
       "  'cell_type': 'glutamatergic neuron',\n",
       "  'cell_type_ontology_term_id': 'CL:0000679'},\n",
       " {'cell_annotation_key': 'neurotransmitter', 'cell_label': ''},\n",
       " {'cell_annotation_key': 'neurotransmitter',\n",
       "  'cell_label': 'GABA',\n",
       "  'cell_type': 'GABAergic neuron',\n",
       "  'cell_type_ontology_term_id': 'CL:0000617'},\n",
       " {'cell_annotation_key': 'neurotransmitter',\n",
       "  'cell_label': 'Dopa',\n",
       "  'cell_type': 'dopaminergic neuron',\n",
       "  'cell_type_ontology_term_id': 'CL:0000700'},\n",
       " {'cell_annotation_key': 'neurotransmitter', 'cell_label': 'Glut-GABA'},\n",
       " {'cell_annotation_key': 'neurotransmitter', 'cell_label': 'Chol'},\n",
       " {'cell_annotation_key': 'neurotransmitter', 'cell_label': 'Hist'},\n",
       " {'cell_annotation_key': 'neurotransmitter', 'cell_label': 'GABA-Glyc'},\n",
       " {'cell_annotation_key': 'neurotransmitter',\n",
       "  'cell_label': 'Sero',\n",
       "  'cell_type': 'serotonergic neuron',\n",
       "  'cell_type_ontology_term_id': 'CL:0000850'},\n",
       " {'cell_annotation_key': 'neurotransmitter', 'cell_label': 'Nora'}]"
      ]
     },
     "execution_count": 101,
     "metadata": {},
     "output_type": "execute_result"
    }
   ],
   "source": [
    "import re\n",
    "annotations = []\n",
    "import warnings\n",
    "\n",
    "# In the ols taxonomy only clusters having leading numbers.\n",
    "def newname_2_old(name:str, old_names):\n",
    "    old_style_name = re.sub(\"^\\d+ (.+)\", r\"\\1\", name)\n",
    "    if old_style_name in old_names:\n",
    "        return old_style_name\n",
    "    else:\n",
    "        return name\n",
    "\n",
    "for k,v in cluster_annotation_term_dict.items():\n",
    "    annotation = {}\n",
    "    name = newname_2_old(v['name'], old_taxonomy_dict.keys())\n",
    "\n",
    "    if v['cluster_annotation_term_set_name'] == 'neurotransmitter':\n",
    "        # Ideally mixed NTs would be split.  Do that later\n",
    "        annotation['cell_annotation_key'] = v['cluster_annotation_term_set_name']\n",
    "        annotation['cell_label'] = name\n",
    "        if name in NTs.keys():\n",
    "            annotation['cell_type'] = NT[name]['label']\n",
    "            annotation['cell_type_ontology_term_id'] = NT[name]['ID']\n",
    "        next\n",
    "    if name in duplicate_names: \n",
    "        next\n",
    "        \n",
    "    if name in old_taxonomy_dict.keys():\n",
    "        annotation['cell_annotation_key'] =  v['cluster_annotation_term_set_name']\n",
    "        annotation['cell_label'] = name\n",
    "        cell_set_accession = old_taxonomy_dict[name]['cell_set_accession']\n",
    "        annotation['cell_set_accession'] = cell_set_accession\n",
    "        ## Now we need to look up parent cell set accessions. For that we need the stripped name\n",
    "        ### Lookup name of parent\n",
    "        if v['parent_term_label'] and v['parent_term_label'] in cluster_annotation_term_dict.keys():\n",
    "            parent_name = cluster_annotation_term_dict[v['parent_term_label']]['name']\n",
    "            parent_cell_set_name = newname_2_old(parent_name, old_taxonomy_dict.keys())\n",
    "            if parent_cell_set_name in old_taxonomy_dict.keys():\n",
    "                annotation['parent_cell_set_label'] = parent_cell_set_name\n",
    "                annotation['parent_cell_set_accession'] = old_taxonomy_dict[parent_cell_set_name]['cell_set_accession']\n",
    "            else:\n",
    "                warnings.warn(\"No mapping for parent: \" + v['parent_term_label'] + ' ' + parent_name)      \n",
    "        if cell_set_accession in CL_mapping.keys(): \n",
    "            annotation['cell_type'] = CL_mapping[cell_set_accession]['label']\n",
    "            annotation['cell_type_ontology_term_id'] = CL_mapping[cell_set_accession]['CL']\n",
    "\n",
    "    if annotation:\n",
    "        annotations.append(annotation)\n",
    "annotations[0:10]"
   ]
  },
  {
   "cell_type": "code",
   "execution_count": 99,
   "id": "136d854c-88f8-4420-a05d-6d4fc68d4be8",
   "metadata": {},
   "outputs": [
    {
     "data": {
      "text/plain": [
       "0                    NaN\n",
       "44      CCN20230722_CLAS\n",
       "382     CCN20230722_SUBC\n",
       "1583    CCN20230722_SUPT\n",
       "Name: parent_term_set_label, dtype: object"
      ]
     },
     "execution_count": 99,
     "metadata": {},
     "output_type": "execute_result"
    }
   ],
   "source": [
    "# Where are links to NT added? Not in cluster_anntation_term table\n",
    "cluster_annotation_term['parent_term_set_label'].drop_duplicates()"
   ]
  },
  {
   "cell_type": "code",
   "execution_count": 107,
   "id": "ad74ccdf-6ef3-459e-8a17-44a4e73eaf29",
   "metadata": {},
   "outputs": [
    {
     "data": {
      "text/plain": [
       "0        CCN20230722_CLUS\n",
       "5322     CCN20230722_SUPT\n",
       "10644    CCN20230722_SUBC\n",
       "15966    CCN20230722_CLAS\n",
       "21288    CCN20230722_NEUR\n",
       "Name: cluster_annotation_term_set_label, dtype: object"
      ]
     },
     "execution_count": 107,
     "metadata": {},
     "output_type": "execute_result"
    }
   ],
   "source": [
    "# Seems this happens here & that also Cluster assoc with all levels.  Surely this is redundant!\n",
    "cluster_to_cluster_annotation_membership['cluster_annotation_term_set_label'].drop_duplicates()"
   ]
  },
  {
   "cell_type": "code",
   "execution_count": 108,
   "id": "0733ede2-3dd6-49d1-b61d-c4dd7c4efbf3",
   "metadata": {},
   "outputs": [
    {
     "data": {
      "text/html": [
       "<div>\n",
       "<style scoped>\n",
       "    .dataframe tbody tr th:only-of-type {\n",
       "        vertical-align: middle;\n",
       "    }\n",
       "\n",
       "    .dataframe tbody tr th {\n",
       "        vertical-align: top;\n",
       "    }\n",
       "\n",
       "    .dataframe thead th {\n",
       "        text-align: right;\n",
       "    }\n",
       "</style>\n",
       "<table border=\"1\" class=\"dataframe\">\n",
       "  <thead>\n",
       "    <tr style=\"text-align: right;\">\n",
       "      <th></th>\n",
       "      <th>cluster_annotation_term_label</th>\n",
       "      <th>cluster_annotation_term_set_label</th>\n",
       "      <th>cluster_alias</th>\n",
       "      <th>cluster_annotation_term_name</th>\n",
       "      <th>cluster_annotation_term_set_name</th>\n",
       "      <th>number_of_cells</th>\n",
       "      <th>color_hex_triplet</th>\n",
       "    </tr>\n",
       "  </thead>\n",
       "  <tbody>\n",
       "    <tr>\n",
       "      <th>0</th>\n",
       "      <td>CS20230722_CLUS_0001</td>\n",
       "      <td>CCN20230722_CLUS</td>\n",
       "      <td>128</td>\n",
       "      <td>0001 CLA-EPd-CTX Car3 Glut_1</td>\n",
       "      <td>cluster</td>\n",
       "      <td>4262</td>\n",
       "      <td>#00664E</td>\n",
       "    </tr>\n",
       "    <tr>\n",
       "      <th>1</th>\n",
       "      <td>CS20230722_CLUS_0002</td>\n",
       "      <td>CCN20230722_CLUS</td>\n",
       "      <td>129</td>\n",
       "      <td>0002 CLA-EPd-CTX Car3 Glut_1</td>\n",
       "      <td>cluster</td>\n",
       "      <td>3222</td>\n",
       "      <td>#5C79CC</td>\n",
       "    </tr>\n",
       "    <tr>\n",
       "      <th>2</th>\n",
       "      <td>CS20230722_CLUS_0003</td>\n",
       "      <td>CCN20230722_CLUS</td>\n",
       "      <td>130</td>\n",
       "      <td>0003 CLA-EPd-CTX Car3 Glut_1</td>\n",
       "      <td>cluster</td>\n",
       "      <td>12216</td>\n",
       "      <td>#86FF4D</td>\n",
       "    </tr>\n",
       "    <tr>\n",
       "      <th>3</th>\n",
       "      <td>CS20230722_CLUS_0004</td>\n",
       "      <td>CCN20230722_CLUS</td>\n",
       "      <td>143</td>\n",
       "      <td>0004 CLA-EPd-CTX Car3 Glut_1</td>\n",
       "      <td>cluster</td>\n",
       "      <td>9334</td>\n",
       "      <td>#CC563D</td>\n",
       "    </tr>\n",
       "    <tr>\n",
       "      <th>4</th>\n",
       "      <td>CS20230722_CLUS_0005</td>\n",
       "      <td>CCN20230722_CLUS</td>\n",
       "      <td>131</td>\n",
       "      <td>0005 CLA-EPd-CTX Car3 Glut_2</td>\n",
       "      <td>cluster</td>\n",
       "      <td>1056</td>\n",
       "      <td>#E7FF26</td>\n",
       "    </tr>\n",
       "    <tr>\n",
       "      <th>5</th>\n",
       "      <td>CS20230722_CLUS_0006</td>\n",
       "      <td>CCN20230722_CLUS</td>\n",
       "      <td>116</td>\n",
       "      <td>0006 IT EP-CLA Glut_1</td>\n",
       "      <td>cluster</td>\n",
       "      <td>2648</td>\n",
       "      <td>#66512E</td>\n",
       "    </tr>\n",
       "    <tr>\n",
       "      <th>6</th>\n",
       "      <td>CS20230722_CLUS_0007</td>\n",
       "      <td>CCN20230722_CLUS</td>\n",
       "      <td>120</td>\n",
       "      <td>0007 IT EP-CLA Glut_1</td>\n",
       "      <td>cluster</td>\n",
       "      <td>9681</td>\n",
       "      <td>#26FF46</td>\n",
       "    </tr>\n",
       "    <tr>\n",
       "      <th>7</th>\n",
       "      <td>CS20230722_CLUS_0008</td>\n",
       "      <td>CCN20230722_CLUS</td>\n",
       "      <td>121</td>\n",
       "      <td>0008 IT EP-CLA Glut_1</td>\n",
       "      <td>cluster</td>\n",
       "      <td>2472</td>\n",
       "      <td>#73D7FF</td>\n",
       "    </tr>\n",
       "    <tr>\n",
       "      <th>8</th>\n",
       "      <td>CS20230722_CLUS_0009</td>\n",
       "      <td>CCN20230722_CLUS</td>\n",
       "      <td>122</td>\n",
       "      <td>0009 IT EP-CLA Glut_1</td>\n",
       "      <td>cluster</td>\n",
       "      <td>2167</td>\n",
       "      <td>#995C94</td>\n",
       "    </tr>\n",
       "    <tr>\n",
       "      <th>9</th>\n",
       "      <td>CS20230722_CLUS_0010</td>\n",
       "      <td>CCN20230722_CLUS</td>\n",
       "      <td>125</td>\n",
       "      <td>0010 IT EP-CLA Glut_1</td>\n",
       "      <td>cluster</td>\n",
       "      <td>441</td>\n",
       "      <td>#230099</td>\n",
       "    </tr>\n",
       "  </tbody>\n",
       "</table>\n",
       "</div>"
      ],
      "text/plain": [
       "  cluster_annotation_term_label cluster_annotation_term_set_label  \\\n",
       "0          CS20230722_CLUS_0001                  CCN20230722_CLUS   \n",
       "1          CS20230722_CLUS_0002                  CCN20230722_CLUS   \n",
       "2          CS20230722_CLUS_0003                  CCN20230722_CLUS   \n",
       "3          CS20230722_CLUS_0004                  CCN20230722_CLUS   \n",
       "4          CS20230722_CLUS_0005                  CCN20230722_CLUS   \n",
       "5          CS20230722_CLUS_0006                  CCN20230722_CLUS   \n",
       "6          CS20230722_CLUS_0007                  CCN20230722_CLUS   \n",
       "7          CS20230722_CLUS_0008                  CCN20230722_CLUS   \n",
       "8          CS20230722_CLUS_0009                  CCN20230722_CLUS   \n",
       "9          CS20230722_CLUS_0010                  CCN20230722_CLUS   \n",
       "\n",
       "   cluster_alias  cluster_annotation_term_name  \\\n",
       "0            128  0001 CLA-EPd-CTX Car3 Glut_1   \n",
       "1            129  0002 CLA-EPd-CTX Car3 Glut_1   \n",
       "2            130  0003 CLA-EPd-CTX Car3 Glut_1   \n",
       "3            143  0004 CLA-EPd-CTX Car3 Glut_1   \n",
       "4            131  0005 CLA-EPd-CTX Car3 Glut_2   \n",
       "5            116         0006 IT EP-CLA Glut_1   \n",
       "6            120         0007 IT EP-CLA Glut_1   \n",
       "7            121         0008 IT EP-CLA Glut_1   \n",
       "8            122         0009 IT EP-CLA Glut_1   \n",
       "9            125         0010 IT EP-CLA Glut_1   \n",
       "\n",
       "  cluster_annotation_term_set_name  number_of_cells color_hex_triplet  \n",
       "0                          cluster             4262           #00664E  \n",
       "1                          cluster             3222           #5C79CC  \n",
       "2                          cluster            12216           #86FF4D  \n",
       "3                          cluster             9334           #CC563D  \n",
       "4                          cluster             1056           #E7FF26  \n",
       "5                          cluster             2648           #66512E  \n",
       "6                          cluster             9681           #26FF46  \n",
       "7                          cluster             2472           #73D7FF  \n",
       "8                          cluster             2167           #995C94  \n",
       "9                          cluster              441           #230099  "
      ]
     },
     "execution_count": 108,
     "metadata": {},
     "output_type": "execute_result"
    }
   ],
   "source": [
    "cluster_to_cluster_annotation_membership[0:10]"
   ]
  },
  {
   "cell_type": "markdown",
   "id": "5cef6fed-4d0d-40fb-b8a0-f00deba0d834",
   "metadata": {},
   "source": [
    "TODO - test redundancy. If cluster maps to term_set of rank n, it should also map to term_set of rank n+1, n+2 etc.\n",
    "\n"
   ]
  }
 ],
 "metadata": {
  "kernelspec": {
   "display_name": "Python 3 (ipykernel)",
   "language": "python",
   "name": "python3"
  },
  "language_info": {
   "codemirror_mode": {
    "name": "ipython",
    "version": 3
   },
   "file_extension": ".py",
   "mimetype": "text/x-python",
   "name": "python",
   "nbconvert_exporter": "python",
   "pygments_lexer": "ipython3",
   "version": "3.9.18"
  }
 },
 "nbformat": 4,
 "nbformat_minor": 5
}
