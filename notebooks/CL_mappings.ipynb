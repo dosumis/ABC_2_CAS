{
 "cells": [
  {
   "cell_type": "code",
   "execution_count": 66,
   "id": "2308417d-7528-45c7-919a-6e3818706983",
   "metadata": {},
   "outputs": [],
   "source": [
    "import requests\n",
    "import json\n",
    "import yaml\n",
    "import pandas as pd"
   ]
  },
  {
   "cell_type": "markdown",
   "id": "aaccb0d7-4157-4812-981d-373822268f91",
   "metadata": {},
   "source": [
    "# Aim\n",
    "\n",
    "Return a lookup from ABC accession to CL term.\n",
    "Do this based on harvesting old CL mappings and mapping forwards on names.\n",
    "\n",
    "There are 3 sources of mappings\n",
    "\n",
    "- old root node mappings\n",
    "- cell set mappings\n",
    "- NT mappings\n",
    "\n",
    "NT mappings should supercede any existing mappings to NT."
   ]
  },
  {
   "cell_type": "code",
   "execution_count": 85,
   "id": "f426eb7f-8332-4454-bca6-74acbb77f892",
   "metadata": {},
   "outputs": [],
   "source": [
    "## NT mappings (using label names from ABC atlas)\n",
    "\n",
    "NT =  { 'Glut': {'ID': 'CL:0000679', 'label': 'glutamatergic neuron'},\n",
    "        'GABA': {'ID': 'CL:0000617', 'label': 'GABAergic neuron'},\n",
    "        'Sero': {'ID': 'CL:0000850', 'label': 'serotonergic neuron'},\n",
    "        'Dopa': {'ID': 'CL:0000700', 'label': 'dopaminergic neuron'},\n",
    "        'Chol': {'ID': 'CL:0000108', 'label': 'cholinergic neuron'},\n",
    "        'Hist': {'ID': 'CL:0011110', 'label': 'histaminergic neuron'},\n",
    "        'Nora': {'ID': 'CL:0008025', 'label': 'noradrendergic neuron'}       \n",
    "      }\n"
   ]
  },
  {
   "cell_type": "code",
   "execution_count": 86,
   "id": "2029f89c-98af-437e-a2c4-f4e0a9039c23",
   "metadata": {},
   "outputs": [],
   "source": [
    "# Make a CL ID to label lookup\n",
    "clget = requests.get(\"http://purl.obolibrary.org/obo/cl/cl.json\")\n",
    "cl = json.loads(clget.content)['graphs'][0]\n",
    "cl_lookup = { n['id'].replace(\"http://purl.obolibrary.org/obo/CL_\", \"CL:\") : n['lbl'] \n",
    "          for n in cl['nodes'] \n",
    "          if 'lbl' in n.keys() }"
   ]
  },
  {
   "cell_type": "code",
   "execution_count": 87,
   "id": "1162dd4d-cc89-4c4f-8564-e8729c634dda",
   "metadata": {},
   "outputs": [],
   "source": [
    "# Function for generating quick dictionary lookups from dataframes - cos I suck a pandas joins\n",
    "def df2dict(df: pd.DataFrame, key_column: str):\n",
    "    return df.set_index(key_column).fillna('').to_dict(orient='index')"
   ]
  },
  {
   "cell_type": "code",
   "execution_count": 88,
   "id": "cf66f823-e433-41d8-9bf0-c328f8c4d076",
   "metadata": {},
   "outputs": [
    {
     "data": {
      "text/html": [
       "<div>\n",
       "<style scoped>\n",
       "    .dataframe tbody tr th:only-of-type {\n",
       "        vertical-align: middle;\n",
       "    }\n",
       "\n",
       "    .dataframe tbody tr th {\n",
       "        vertical-align: top;\n",
       "    }\n",
       "\n",
       "    .dataframe thead th {\n",
       "        text-align: right;\n",
       "    }\n",
       "</style>\n",
       "<table border=\"1\" class=\"dataframe\">\n",
       "  <thead>\n",
       "    <tr style=\"text-align: right;\">\n",
       "      <th></th>\n",
       "      <th>cell_set_preferred_alias</th>\n",
       "      <th>CL</th>\n",
       "    </tr>\n",
       "  </thead>\n",
       "  <tbody>\n",
       "    <tr>\n",
       "      <th>4414</th>\n",
       "      <td>4972 CB Granule Glut_1</td>\n",
       "      <td>CL:0000120</td>\n",
       "    </tr>\n",
       "    <tr>\n",
       "      <th>4415</th>\n",
       "      <td>4973 CB Granule Glut_1</td>\n",
       "      <td>CL:0000120</td>\n",
       "    </tr>\n",
       "    <tr>\n",
       "      <th>4416</th>\n",
       "      <td>4974 CB Granule Glut_1</td>\n",
       "      <td>CL:0000120</td>\n",
       "    </tr>\n",
       "  </tbody>\n",
       "</table>\n",
       "</div>"
      ],
      "text/plain": [
       "     cell_set_preferred_alias          CL\n",
       "4414   4972 CB Granule Glut_1  CL:0000120\n",
       "4415   4973 CB Granule Glut_1  CL:0000120\n",
       "4416   4974 CB Granule Glut_1  CL:0000120"
      ]
     },
     "execution_count": 88,
     "metadata": {},
     "output_type": "execute_result"
    }
   ],
   "source": [
    "# Old taxonomy has CL mappings and the names we will use to map forward.\n",
    "old_taxonomy = pd.read_csv('../data/BDSO_taxonomy_templates/nomenclature_table_CS202212150_annotated.csv', sep=',')\n",
    "old_taxonomy[['cell_set_preferred_alias', 'CL',]].dropna()[0:3]"
   ]
  },
  {
   "cell_type": "code",
   "execution_count": 89,
   "id": "b9444efd-402d-49a9-aefe-5f0616465741",
   "metadata": {},
   "outputs": [],
   "source": [
    "# Some lookups from old taxonomy\n",
    "old_taxonomy_name_dict = df2dict(old_taxonomy, 'cell_set_preferred_alias')\n",
    "old_taxonomy_accession_dict = df2dict(old_taxonomy, 'cell_set_accession')\n"
   ]
  },
  {
   "cell_type": "code",
   "execution_count": 90,
   "id": "6dc95b99-5e2e-4631-9f7d-7406b0e0e95a",
   "metadata": {},
   "outputs": [],
   "source": [
    "\n",
    "CL_mapping = df2dict(old_taxonomy[['cell_set_preferred_alias', 'CL',]].dropna(), 'cell_set_preferred_alias')"
   ]
  },
  {
   "cell_type": "code",
   "execution_count": 91,
   "id": "8843e792-9b5a-49c6-916c-fd0526acb8dd",
   "metadata": {},
   "outputs": [
    {
     "data": {
      "text/plain": [
       "[{'Node': 'CS202212150_6347',\n",
       "  'Cell_type': 'CL:0000679',\n",
       "  'Location_relation': 'has_soma_location'},\n",
       " {'Node': 'CS202212150_6348',\n",
       "  'Cell_type': 'CL:0000679',\n",
       "  'Location_relation': 'has_soma_location'},\n",
       " {'Node': 'CS202212150_6349',\n",
       "  'Cell_type': 'CL:0000679',\n",
       "  'Location_relation': 'has_soma_location'}]"
      ]
     },
     "execution_count": 91,
     "metadata": {},
     "output_type": "execute_result"
    }
   ],
   "source": [
    "with open('../data/BDSO_taxonomy_templates/taxonomy_details.yaml', 'r') as taxd_file:\n",
    "    taxd=yaml.safe_load(taxd_file.read())\n",
    "taxd[0]['Root_nodes'][0:3]"
   ]
  },
  {
   "cell_type": "code",
   "execution_count": 92,
   "id": "a648a4e1-f13e-4e21-8c1d-1eb5a8f4b45d",
   "metadata": {},
   "outputs": [],
   "source": [
    "# we need to map these too.  To make combining easy, use the same data structure\n",
    "\n",
    "root_node_CL_mappings = { old_taxonomy_accession_dict[n['Node']]['cell_set_preferred_alias']: \n",
    "                         { 'CL': n['Cell_type'], 'cell_set_accession' : n['Node'] }\n",
    "                         for n in taxd[0]['Root_nodes'] }"
   ]
  },
  {
   "cell_type": "code",
   "execution_count": 93,
   "id": "79a65666-244a-4746-a089-22c7aaca505c",
   "metadata": {},
   "outputs": [],
   "source": [
    "# merge into one mapping\n",
    "CL_mapping.update(root_node_CL_mappings)"
   ]
  },
  {
   "cell_type": "code",
   "execution_count": 94,
   "id": "b1fd0930-c6b9-4933-9ad6-20a289dfe6c8",
   "metadata": {},
   "outputs": [
    {
     "data": {
      "text/plain": [
       "[('4972 CB Granule Glut_1', {'CL': 'CL:0000120'}),\n",
       " ('4973 CB Granule Glut_1', {'CL': 'CL:0000120'}),\n",
       " ('4974 CB Granule Glut_1', {'CL': 'CL:0000120'})]"
      ]
     },
     "execution_count": 94,
     "metadata": {},
     "output_type": "execute_result"
    }
   ],
   "source": [
    "list(CL_mapping.items())[0:3]\n"
   ]
  },
  {
   "cell_type": "code",
   "execution_count": 95,
   "id": "e8c95000-aa0a-4895-aabd-f1a57265907c",
   "metadata": {},
   "outputs": [
    {
     "data": {
      "text/plain": [
       "[{'CL': 'CL:0000679'},\n",
       " {'CL': 'CL:0000617'},\n",
       " {'CL': 'CL:0000679', 'cell_set_accession': 'CS202212150_6347'},\n",
       " {'CL': 'CL:0000679', 'cell_set_accession': 'CS202212150_6348'},\n",
       " {'CL': 'CL:0000679', 'cell_set_accession': 'CS202212150_6349'},\n",
       " {'CL': 'CL:0000617', 'cell_set_accession': 'CS202212150_6352'},\n",
       " {'CL': 'CL:0000617', 'cell_set_accession': 'CS202212150_6353'},\n",
       " {'CL': 'CL:0000617', 'cell_set_accession': 'CS202212150_6354'},\n",
       " {'CL': 'CL:0000679', 'cell_set_accession': 'CS202212150_6355'},\n",
       " {'CL': 'CL:0000679', 'cell_set_accession': 'CS202212150_6356'},\n",
       " {'CL': 'CL:0000617', 'cell_set_accession': 'CS202212150_6357'},\n",
       " {'CL': 'CL:0000679', 'cell_set_accession': 'CS202212150_5468'},\n",
       " {'CL': 'CL:0000679', 'cell_set_accession': 'CS202212150_6359'},\n",
       " {'CL': 'CL:0000679', 'cell_set_accession': 'CS202212150_6361'},\n",
       " {'CL': 'CL:0000679', 'cell_set_accession': 'CS202212150_6362'},\n",
       " {'CL': 'CL:0000679', 'cell_set_accession': 'CS202212150_6363'},\n",
       " {'CL': 'CL:0000850', 'cell_set_accession': 'CS202212150_6248'},\n",
       " {'CL': 'CL:0000679', 'cell_set_accession': 'CS202212150_6364'},\n",
       " {'CL': 'CL:0000617', 'cell_set_accession': 'CS202212150_6365'},\n",
       " {'CL': 'CL:0000617', 'cell_set_accession': 'CS202212150_6366'},\n",
       " {'CL': 'CL:0000617', 'cell_set_accession': 'CS202212150_6367'},\n",
       " {'CL': 'CL:0000617', 'cell_set_accession': 'CS202212150_6368'},\n",
       " {'CL': 'CL:0000617', 'cell_set_accession': 'CS202212150_6369'},\n",
       " {'CL': 'CL:0000700', 'cell_set_accession': 'CS202212150_6047'},\n",
       " {'CL': 'CL:0000679', 'cell_set_accession': 'CS202212150_6097'},\n",
       " {'CL': 'CL:0000679', 'cell_set_accession': 'CS202212150_5101'}]"
      ]
     },
     "execution_count": 95,
     "metadata": {},
     "output_type": "execute_result"
    }
   ],
   "source": [
    "# remove NTs. We only want to use the mapping of these directly to cluster in the NT field in ABC.\n",
    "\n",
    "to_remove = []\n",
    "for k,v in CL_mapping.items():\n",
    "    if cl_lookup[v['CL']] in [n['label'] for n in NT.values()]:\n",
    "        to_remove.append(k)\n",
    "\n",
    "[CL_mapping.pop(key) for key in to_remove]\n",
    "for k,v in"
   ]
  },
  {
   "cell_type": "code",
   "execution_count": 96,
   "id": "99a9bc92-baab-4765-88b2-b9d55000f5a3",
   "metadata": {},
   "outputs": [],
   "source": [
    "# Start by loading relevant ABC metadata files into dataframes\n",
    "dpath = '../data/WMB_taxonomy_20230830/'\n",
    "cluster_annotation_term = pd.read_csv(dpath + 'cluster_annotation_term.csv', sep=',')"
   ]
  },
  {
   "cell_type": "code",
   "execution_count": null,
   "id": "564ebed6-c344-4a47-aadb-2584cc8d9d98",
   "metadata": {},
   "outputs": [],
   "source": []
  },
  {
   "cell_type": "code",
   "execution_count": 97,
   "id": "98d92c01-5c94-4e0f-a69c-cdd33b34debf",
   "metadata": {},
   "outputs": [],
   "source": [
    "import re\n",
    "def newname_2_old(name:str, old_names):\n",
    "    old_style_name = re.sub(\"^\\d+ (.+)\", r\"\\1\", name)\n",
    "    if old_style_name in old_names:\n",
    "        return old_style_name\n",
    "    else:\n",
    "        return name\n"
   ]
  },
  {
   "cell_type": "code",
   "execution_count": 98,
   "id": "aefd6afd-cdf1-4d6a-b5df-e245a04df939",
   "metadata": {},
   "outputs": [],
   "source": [
    "cluster_annotation_term_dict = df2dict(cluster_annotation_term, 'label')"
   ]
  },
  {
   "cell_type": "code",
   "execution_count": 104,
   "id": "b6ee8f17-519e-4813-8ecd-47157418b723",
   "metadata": {},
   "outputs": [
    {
     "data": {
      "text/plain": [
       "{'CS20230722_CLAS_33': 'CL:4023072',\n",
       " 'CS20230722_CLAS_34': 'CL:0000738',\n",
       " 'CS20230722_SUBC_327': 'CL:0000128',\n",
       " 'CS20230722_SUBC_330': 'CL:4023051',\n",
       " 'CS20230722_SUBC_331': 'CL:2000043',\n",
       " 'CS20230722_SUBC_332': 'CL:0000192',\n",
       " 'CS20230722_SUBC_333': 'CL:0000115',\n",
       " 'CS20230722_SUBC_338': 'CL:0000542',\n",
       " 'CS20230722_SUPT_1154': 'CL:0000120',\n",
       " 'CS20230722_SUPT_1159': 'CL:0000127',\n",
       " 'CS20230722_SUPT_1163': 'CL:0000127',\n",
       " 'CS20230722_SUPT_1166': 'CL:0000127',\n",
       " 'CS20230722_SUPT_1172': 'CL:0002085',\n",
       " 'CS20230722_SUPT_1175': 'CL:0000065',\n",
       " 'CS20230722_SUPT_1179': 'CL:0002453',\n",
       " 'CS20230722_SUPT_1187': 'CL:4023051',\n",
       " 'CS20230722_CLUS_5197': 'CL:0000120',\n",
       " 'CS20230722_CLUS_5198': 'CL:0000120',\n",
       " 'CS20230722_CLUS_5199': 'CL:0000120',\n",
       " 'CS20230722_CLUS_5208': 'CL:0000127',\n",
       " 'CS20230722_CLUS_5209': 'CL:0000127',\n",
       " 'CS20230722_CLUS_5210': 'CL:0000127',\n",
       " 'CS20230722_CLUS_5211': 'CL:0000127',\n",
       " 'CS20230722_CLUS_5212': 'CL:0000127',\n",
       " 'CS20230722_CLUS_5213': 'CL:0000127',\n",
       " 'CS20230722_CLUS_5224': 'CL:0000127',\n",
       " 'CS20230722_CLUS_5225': 'CL:0000127',\n",
       " 'CS20230722_CLUS_5226': 'CL:0000127',\n",
       " 'CS20230722_CLUS_5227': 'CL:0000127',\n",
       " 'CS20230722_CLUS_5231': 'CL:0000127',\n",
       " 'CS20230722_CLUS_5232': 'CL:0000127',\n",
       " 'CS20230722_CLUS_5243': 'CL:0002085',\n",
       " 'CS20230722_CLUS_5244': 'CL:0002085',\n",
       " 'CS20230722_CLUS_5251': 'CL:0000065',\n",
       " 'CS20230722_CLUS_5252': 'CL:0000065',\n",
       " 'CS20230722_CLUS_5253': 'CL:0000065',\n",
       " 'CS20230722_CLUS_5254': 'CL:0000065',\n",
       " 'CS20230722_CLUS_5255': 'CL:0000065',\n",
       " 'CS20230722_CLUS_5256': 'CL:0000065',\n",
       " 'CS20230722_CLUS_5257': 'CL:0000065',\n",
       " 'CS20230722_CLUS_5258': 'CL:0000065',\n",
       " 'CS20230722_CLUS_5259': 'CL:0000065',\n",
       " 'CS20230722_CLUS_5266': 'CL:0002453',\n",
       " 'CS20230722_CLUS_5267': 'CL:0002453',\n",
       " 'CS20230722_CLUS_5268': 'CL:0002453',\n",
       " 'CS20230722_CLUS_5269': 'CL:0002453',\n",
       " 'CS20230722_CLUS_5270': 'CL:0002453',\n",
       " 'CS20230722_CLUS_5296': 'CL:4023051',\n",
       " 'CS20230722_CLUS_5297': 'CL:4023051',\n",
       " 'CS20230722_CLUS_5298': 'CL:4023051',\n",
       " 'CS20230722_CLUS_5299': 'CL:4023051'}"
      ]
     },
     "execution_count": 104,
     "metadata": {},
     "output_type": "execute_result"
    }
   ],
   "source": [
    "out = {}\n",
    "for k,v in cluster_annotation_term_dict.items():\n",
    "    old_name = newname_2_old(v['name'], old_taxonomy_name_dict.keys())\n",
    "    if old_name in CL_mapping.keys():\n",
    "        out[k] = CL_mapping[old_name]['CL']\n",
    "\n",
    "out\n",
    "    "
   ]
  },
  {
   "cell_type": "code",
   "execution_count": 103,
   "id": "798dfb58-d67c-40ef-aaef-a49c1205d759",
   "metadata": {},
   "outputs": [
    {
     "data": {
      "text/plain": [
       "{'CL:0000065',\n",
       " 'CL:0000115',\n",
       " 'CL:0000120',\n",
       " 'CL:0000127',\n",
       " 'CL:0000128',\n",
       " 'CL:0000192',\n",
       " 'CL:0000542',\n",
       " 'CL:0000738',\n",
       " 'CL:0002085',\n",
       " 'CL:0002453',\n",
       " 'CL:2000043',\n",
       " 'CL:4023051',\n",
       " 'CL:4023072'}"
      ]
     },
     "execution_count": 103,
     "metadata": {},
     "output_type": "execute_result"
    }
   ],
   "source": [
    "{ v['CL'] for v in out.values()}"
   ]
  },
  {
   "cell_type": "markdown",
   "id": "c286bdc4-8908-4357-9135-92b8aa08072e",
   "metadata": {},
   "source": [
    "## Hmmmm\n",
    "\n",
    "That a lot of work for a very small number of CL term mappings...!"
   ]
  }
 ],
 "metadata": {
  "kernelspec": {
   "display_name": "Python 3 (ipykernel)",
   "language": "python",
   "name": "python3"
  },
  "language_info": {
   "codemirror_mode": {
    "name": "ipython",
    "version": 3
   },
   "file_extension": ".py",
   "mimetype": "text/x-python",
   "name": "python",
   "nbconvert_exporter": "python",
   "pygments_lexer": "ipython3",
   "version": "3.9.6"
  }
 },
 "nbformat": 4,
 "nbformat_minor": 5
}
